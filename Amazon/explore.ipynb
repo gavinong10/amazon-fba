{
 "cells": [
  {
   "cell_type": "code",
   "execution_count": 3,
   "metadata": {
    "collapsed": false
   },
   "outputs": [
    {
     "name": "stderr",
     "output_type": "stream",
     "text": [
      "/Users/macbook/miniconda3/envs/py27/lib/python2.7/site-packages/ipykernel/__main__.py:16: UserWarning: gzip transfer encoding is experimental!\n"
     ]
    },
    {
     "name": "stdout",
     "output_type": "stream",
     "text": [
      "<POST https://github.com/session application/x-www-form-urlencoded\n",
      "  <HiddenControl(utf8=✓) (readonly)>\n",
      "  <HiddenControl(authenticity_token=qWI3O5M9eqEYfwN5ltk3REdGFEb4y/F242/+/Cs6HFWDn8O18M0ISSsMJBgXuxCUJ1kkbN4QYdW8kb6VRfMTpA==) (readonly)>\n",
      "  <TextControl(login=)>\n",
      "  <PasswordControl(password=)>\n",
      "  <SubmitControl(commit=Sign in) (readonly)>>\n"
     ]
    },
    {
     "ename": "FormNotFoundError",
     "evalue": "no form matching nr 1",
     "output_type": "error",
     "traceback": [
      "\u001b[0;31m---------------------------------------------------------------------------\u001b[0m",
      "\u001b[0;31mFormNotFoundError\u001b[0m                         Traceback (most recent call last)",
      "\u001b[0;32m<ipython-input-3-89da34e9f2ff>\u001b[0m in \u001b[0;36m<module>\u001b[0;34m()\u001b[0m\n\u001b[1;32m     30\u001b[0m \u001b[0;34m\u001b[0m\u001b[0m\n\u001b[1;32m     31\u001b[0m \u001b[0;31m# Select the second (index one) form (the first form is a search query box)\u001b[0m\u001b[0;34m\u001b[0m\u001b[0;34m\u001b[0m\u001b[0m\n\u001b[0;32m---> 32\u001b[0;31m \u001b[0mbr\u001b[0m\u001b[0;34m.\u001b[0m\u001b[0mselect_form\u001b[0m\u001b[0;34m(\u001b[0m\u001b[0mnr\u001b[0m\u001b[0;34m=\u001b[0m\u001b[0;36m1\u001b[0m\u001b[0;34m)\u001b[0m\u001b[0;34m\u001b[0m\u001b[0m\n\u001b[0m\u001b[1;32m     33\u001b[0m \u001b[0;34m\u001b[0m\u001b[0m\n\u001b[1;32m     34\u001b[0m \u001b[0;31m# User credentials\u001b[0m\u001b[0;34m\u001b[0m\u001b[0;34m\u001b[0m\u001b[0m\n",
      "\u001b[0;32m/Users/macbook/miniconda3/envs/py27/lib/python2.7/site-packages/mechanize/_mechanize.pyc\u001b[0m in \u001b[0;36mselect_form\u001b[0;34m(self, name, predicate, nr)\u001b[0m\n\u001b[1;32m    522\u001b[0m             \u001b[0;32mif\u001b[0m \u001b[0morig_nr\u001b[0m \u001b[0;32mis\u001b[0m \u001b[0;32mnot\u001b[0m \u001b[0mNone\u001b[0m\u001b[0;34m:\u001b[0m \u001b[0mdescription\u001b[0m\u001b[0;34m.\u001b[0m\u001b[0mappend\u001b[0m\u001b[0;34m(\u001b[0m\u001b[0;34m\"nr %d\"\u001b[0m \u001b[0;34m%\u001b[0m \u001b[0morig_nr\u001b[0m\u001b[0;34m)\u001b[0m\u001b[0;34m\u001b[0m\u001b[0m\n\u001b[1;32m    523\u001b[0m             \u001b[0mdescription\u001b[0m \u001b[0;34m=\u001b[0m \u001b[0;34m\", \"\u001b[0m\u001b[0;34m.\u001b[0m\u001b[0mjoin\u001b[0m\u001b[0;34m(\u001b[0m\u001b[0mdescription\u001b[0m\u001b[0;34m)\u001b[0m\u001b[0;34m\u001b[0m\u001b[0m\n\u001b[0;32m--> 524\u001b[0;31m             \u001b[0;32mraise\u001b[0m \u001b[0mFormNotFoundError\u001b[0m\u001b[0;34m(\u001b[0m\u001b[0;34m\"no form matching \"\u001b[0m\u001b[0;34m+\u001b[0m\u001b[0mdescription\u001b[0m\u001b[0;34m)\u001b[0m\u001b[0;34m\u001b[0m\u001b[0m\n\u001b[0m\u001b[1;32m    525\u001b[0m \u001b[0;34m\u001b[0m\u001b[0m\n\u001b[1;32m    526\u001b[0m     \u001b[0;32mdef\u001b[0m \u001b[0mclick\u001b[0m\u001b[0;34m(\u001b[0m\u001b[0mself\u001b[0m\u001b[0;34m,\u001b[0m \u001b[0;34m*\u001b[0m\u001b[0margs\u001b[0m\u001b[0;34m,\u001b[0m \u001b[0;34m**\u001b[0m\u001b[0mkwds\u001b[0m\u001b[0;34m)\u001b[0m\u001b[0;34m:\u001b[0m\u001b[0;34m\u001b[0m\u001b[0m\n",
      "\u001b[0;31mFormNotFoundError\u001b[0m: no form matching nr 1"
     ]
    }
   ],
   "source": [
    "##################################### Method 1\n",
    "import mechanize\n",
    "import cookielib\n",
    "from BeautifulSoup import BeautifulSoup\n",
    "import html2text\n",
    "\n",
    "# Browser\n",
    "br = mechanize.Browser()\n",
    "\n",
    "# Cookie Jar\n",
    "cj = cookielib.LWPCookieJar()\n",
    "br.set_cookiejar(cj)\n",
    "\n",
    "# Browser options\n",
    "br.set_handle_equiv(True)\n",
    "br.set_handle_gzip(True)\n",
    "br.set_handle_redirect(True)\n",
    "br.set_handle_referer(True)\n",
    "br.set_handle_robots(False)\n",
    "br.set_handle_refresh(mechanize._http.HTTPRefreshProcessor(), max_time=1)\n",
    "\n",
    "br.addheaders = [('User-agent', 'Chrome')]\n",
    "\n",
    "# The site we will navigate into, handling it's session\n",
    "br.open('https://github.com/login')\n",
    "\n",
    "# View available forms\n",
    "for f in br.forms():\n",
    "    print(f)\n",
    "\n",
    "# Select the second (index one) form (the first form is a search query box)\n",
    "br.select_form(nr=1)\n",
    "\n",
    "# User credentials\n",
    "br.form['login'] = 'mylogin'\n",
    "br.form['password'] = 'mypass'\n",
    "\n",
    "# Login\n",
    "br.submit()\n",
    "\n",
    "print(br.open('https://github.com/settings/emails').read())"
   ]
  },
  {
   "cell_type": "code",
   "execution_count": 5,
   "metadata": {
    "collapsed": true
   },
   "outputs": [],
   "source": [
    "br = mechanize.Browser()\n",
    "\n",
    "# Cookie Jar\n",
    "cj = cookielib.LWPCookieJar()\n",
    "br.set_cookiejar(cj)"
   ]
  },
  {
   "cell_type": "code",
   "execution_count": 9,
   "metadata": {
    "collapsed": true
   },
   "outputs": [],
   "source": [
    "br.set_cookiejar?"
   ]
  },
  {
   "cell_type": "code",
   "execution_count": null,
   "metadata": {
    "collapsed": true
   },
   "outputs": [],
   "source": []
  }
 ],
 "metadata": {
  "kernelspec": {
   "display_name": "Python 2",
   "language": "python",
   "name": "python2"
  },
  "language_info": {
   "codemirror_mode": {
    "name": "ipython",
    "version": 2
   },
   "file_extension": ".py",
   "mimetype": "text/x-python",
   "name": "python",
   "nbconvert_exporter": "python",
   "pygments_lexer": "ipython2",
   "version": "2.7.13"
  }
 },
 "nbformat": 4,
 "nbformat_minor": 2
}
