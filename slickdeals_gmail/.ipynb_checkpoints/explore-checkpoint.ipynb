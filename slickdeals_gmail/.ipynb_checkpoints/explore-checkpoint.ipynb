{
 "cells": [
  {
   "cell_type": "code",
   "execution_count": 253,
   "metadata": {
    "collapsed": false
   },
   "outputs": [
    {
     "ename": "AttributeError",
     "evalue": "'module' object has no attribute 'to_datetime64'",
     "output_type": "error",
     "traceback": [
      "\u001b[0;31m---------------------------------------------------------------------------\u001b[0m",
      "\u001b[0;31mAttributeError\u001b[0m                            Traceback (most recent call last)",
      "\u001b[0;32m<ipython-input-253-ddc68076b346>\u001b[0m in \u001b[0;36m<module>\u001b[0;34m()\u001b[0m\n\u001b[1;32m     56\u001b[0m \u001b[0mdf\u001b[0m \u001b[0;34m=\u001b[0m \u001b[0mpd\u001b[0m\u001b[0;34m.\u001b[0m\u001b[0mDataFrame\u001b[0m\u001b[0;34m(\u001b[0m\u001b[0mentries\u001b[0m\u001b[0;34m)\u001b[0m\u001b[0;34m\u001b[0m\u001b[0m\n\u001b[1;32m     57\u001b[0m \u001b[0;34m\u001b[0m\u001b[0m\n\u001b[0;32m---> 58\u001b[0;31m \u001b[0mdf\u001b[0m\u001b[0;34m[\u001b[0m\u001b[0;34m[\u001b[0m\u001b[0;34m'received_at'\u001b[0m\u001b[0;34m,\u001b[0m \u001b[0;34m'detected_at'\u001b[0m\u001b[0;34m]\u001b[0m\u001b[0;34m]\u001b[0m \u001b[0;34m=\u001b[0m \u001b[0mpd\u001b[0m\u001b[0;34m.\u001b[0m\u001b[0mto_datetime64\u001b[0m\u001b[0;34m(\u001b[0m\u001b[0mdf\u001b[0m\u001b[0;34m[\u001b[0m\u001b[0;34m[\u001b[0m\u001b[0;34m'received_at'\u001b[0m\u001b[0;34m,\u001b[0m \u001b[0;34m'detected_at'\u001b[0m\u001b[0;34m]\u001b[0m\u001b[0;34m]\u001b[0m\u001b[0;34m)\u001b[0m\u001b[0;34m\u001b[0m\u001b[0m\n\u001b[0m",
      "\u001b[0;31mAttributeError\u001b[0m: 'module' object has no attribute 'to_datetime64'"
     ]
    }
   ],
   "source": [
    "import mygmail\n",
    "import pandas as pd\n",
    "from lxml import html\n",
    "from pandas import DataFrame, Series\n",
    "from datetime import datetime\n",
    "from sqlalchemy import create_engine\n",
    "import sqlite3\n",
    "\n",
    "entries = []\n",
    "g = mygmail.login(\"teamgavtay@gmail.com\", \"teamgavtay123!\")\n",
    "\n",
    "inboxmail = g.inbox().mail(sender=\"dealalerts@slickdeals.net\")\n",
    "\n",
    "for mail in inboxmail:\n",
    "    mail.fetch()\n",
    "    tree = lxml.html.fromstring(mail.html)\n",
    "    mail.archive()\n",
    "\n",
    "    links = tree.xpath('//a')\n",
    "    if links is None:\n",
    "        continue\n",
    "        \n",
    "    titlelink = [link for link in links if link.get('style') is not None and '#0072bc' in link.get('style')][0]\n",
    "    link = titlelink.xpath('./@href')[0]\n",
    "    title = titlelink.xpath('.//span/text()')[0]\n",
    "    \n",
    "    price = tree.xpath('//*[@color=\"#60a430\"]//span/text()')\n",
    "    if len(price) == 0:\n",
    "        price = \"N/A\"\n",
    "    else:\n",
    "        price = price[0]\n",
    "\n",
    "    entries.append({\n",
    "        \"title\": title,\n",
    "        \"price\": price,\n",
    "        \"link\": link,\n",
    "        \"detected_at\": str(datetime.now()),\n",
    "        \"received_at\": str(parser.parse(mail.headers['Date']))\n",
    "    })\n",
    "    \n",
    "    \n",
    "df = pd.DataFrame(entries)"
   ]
  },
  {
   "cell_type": "code",
   "execution_count": 262,
   "metadata": {
    "collapsed": false
   },
   "outputs": [
    {
     "name": "stdout",
     "output_type": "stream",
     "text": [
      "Duplicate deal. Continuing...\n"
     ]
    }
   ],
   "source": [
    "db = 'sqlite:///database/slickdeals.db'\n",
    "conn = sqlite3.connect(engine)\n",
    "c = conn.cursor()\n",
    "\n",
    "# Create table\n",
    "c.execute(\"\"\"CREATE TABLE IF NOT EXISTS email_deals(\n",
    "   link text PRIMARY KEY,\n",
    "   price text NOT NULL,\n",
    "   title text NOT NULL,\n",
    "   detected_at TEXT NOT NULL,\n",
    "   received_at TEXT NOT NULL\n",
    "   ) \n",
    "   WITHOUT ROWID;\n",
    "\"\"\")\n",
    "\n",
    "# Save (commit) the changes\n",
    "conn.commit()\n",
    "\n",
    "# We can also close the connection if we are done with it.\n",
    "# Just be sure any changes have been committed or they will be lost.\n",
    "\n",
    "for idx in range(len(df)):\n",
    "    try:\n",
    "        df[idx:idx+1].to_sql(\"email_deals\", conn, if_exists='append', index=False, chunksize=None, dtype=None)\n",
    "    except:\n",
    "        print(\"Duplicate deal. Continuing...\")\n",
    "\n",
    "conn.close()"
   ]
  },
  {
   "cell_type": "code",
   "execution_count": 263,
   "metadata": {
    "collapsed": false
   },
   "outputs": [
    {
     "data": {
      "text/html": [
       "<div>\n",
       "<table border=\"1\" class=\"dataframe\">\n",
       "  <thead>\n",
       "    <tr style=\"text-align: right;\">\n",
       "      <th></th>\n",
       "      <th>link</th>\n",
       "      <th>price</th>\n",
       "      <th>title</th>\n",
       "      <th>detected_at</th>\n",
       "      <th>received_at</th>\n",
       "    </tr>\n",
       "  </thead>\n",
       "  <tbody>\n",
       "    <tr>\n",
       "      <th>0</th>\n",
       "      <td>https://slickdeals.net/da/mem-i/p97533168/k18/...</td>\n",
       "      <td>$4.78</td>\n",
       "      <td>AmazonBasics 11-Inch Felt Laptop Sleeve - Ligh...</td>\n",
       "      <td>2017-03-12 15:15:09.020738</td>\n",
       "      <td>2017-03-12 14:58:46-07:00</td>\n",
       "    </tr>\n",
       "  </tbody>\n",
       "</table>\n",
       "</div>"
      ],
      "text/plain": [
       "                                                link  price  \\\n",
       "0  https://slickdeals.net/da/mem-i/p97533168/k18/...  $4.78   \n",
       "\n",
       "                                               title  \\\n",
       "0  AmazonBasics 11-Inch Felt Laptop Sleeve - Ligh...   \n",
       "\n",
       "                  detected_at                received_at  \n",
       "0  2017-03-12 15:15:09.020738  2017-03-12 14:58:46-07:00  "
      ]
     },
     "execution_count": 263,
     "metadata": {},
     "output_type": "execute_result"
    }
   ],
   "source": [
    "engine = create_engine(engine)\n",
    "pd.read_sql_table(\"email_deals\", engine)"
   ]
  },
  {
   "cell_type": "code",
   "execution_count": null,
   "metadata": {
    "collapsed": false
   },
   "outputs": [],
   "source": []
  },
  {
   "cell_type": "code",
   "execution_count": null,
   "metadata": {
    "collapsed": false
   },
   "outputs": [],
   "source": []
  },
  {
   "cell_type": "code",
   "execution_count": null,
   "metadata": {
    "collapsed": true
   },
   "outputs": [],
   "source": []
  }
 ],
 "metadata": {
  "kernelspec": {
   "display_name": "Python 2",
   "language": "python",
   "name": "python2"
  }
 },
 "nbformat": 4,
 "nbformat_minor": 2
}
